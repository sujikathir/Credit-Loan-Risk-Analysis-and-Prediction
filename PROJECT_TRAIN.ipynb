{
 "cells": [
  {
   "cell_type": "markdown",
   "id": "62834763",
   "metadata": {
    "id": "62834763"
   },
   "source": [
    "\n",
    "\n"
   ]
  },
  {
   "cell_type": "markdown",
   "id": "c341cb74",
   "metadata": {
    "id": "c341cb74"
   },
   "source": [
    "## Dataset description\n",
    "\n",
    "The dataset is from the U.S. Small Business Administration (SBA) The U.S. SBA was founded in 1953 on the principle of promoting and assisting small enterprises in the U.S. credit market (SBA Overview and History, US Small Business Administration (2015)). Small businesses have been a primary source of job creation in the United States; therefore, fostering small business formation and growth has social benefits by creating job opportunities and reducing unemployment. There have been many success stories of start-ups receiving SBA loan guarantees such as FedEx and Apple Computer. However, there have also been stories of small businesses and/or start-ups that have defaulted on their SBA-guaranteed loans.  \n",
    "More info on the original dataset: https://www.kaggle.com/mirbektoktogaraev/should-this-loan-be-approved-or-denied\n"
   ]
  },
  {
   "cell_type": "markdown",
   "id": "a0c9b618",
   "metadata": {
    "id": "a0c9b618"
   },
   "source": [
    "## Preparation\n",
    "\n"
   ]
  },
  {
   "cell_type": "code",
   "execution_count": 1,
   "id": "3ca7e035",
   "metadata": {
    "colab": {
     "base_uri": "https://localhost:8080/",
     "height": 17
    },
    "id": "3ca7e035",
    "outputId": "e975ca58-0279-4d97-8aa4-e9b9459aa11c"
   },
   "outputs": [
    {
     "data": {
      "text/html": [
       "<style>.container { width:80% !important; }</style>"
      ],
      "text/plain": [
       "<IPython.core.display.HTML object>"
      ]
     },
     "metadata": {},
     "output_type": "display_data"
    }
   ],
   "source": [
    "#Import the necessary modules\n",
    "import h2o\n",
    "from h2o.estimators import H2OGeneralizedLinearEstimator\n",
    "import pandas as pd\n",
    "import numpy as np\n",
    "import os\n",
    "import pickle\n",
    "\n",
    "import math\n",
    "\n",
    "from h2o.grid.grid_search import H2OGridSearch\n",
    "\n",
    "pd.set_option('display.max_columns', 1500)\n",
    "\n",
    "import warnings\n",
    "warnings.filterwarnings('ignore')\n",
    "\n",
    "#Extend cell width\n",
    "from IPython.core.display import display, HTML\n",
    "display(HTML(\"<style>.container { width:80% !important; }</style>\"))"
   ]
  },
  {
   "cell_type": "code",
   "execution_count": 2,
   "id": "3dd01a48",
   "metadata": {
    "colab": {
     "base_uri": "https://localhost:8080/",
     "height": 584
    },
    "id": "3dd01a48",
    "outputId": "c0b27dd6-da46-434f-f4a1-9ffef8ef3e12"
   },
   "outputs": [
    {
     "name": "stdout",
     "output_type": "stream",
     "text": [
      "Checking whether there is an H2O instance running at http://localhost:54321..... not found.\n",
      "Attempting to start a local H2O server...\n",
      "  Java Version: java version \"20.0.2\" 2023-07-18; Java(TM) SE Runtime Environment (build 20.0.2+9-78); Java HotSpot(TM) 64-Bit Server VM (build 20.0.2+9-78, mixed mode, sharing)\n",
      "  Starting server from /Users/akilsurya.s/ml-fall-2023/lib/python3.10/site-packages/h2o/backend/bin/h2o.jar\n",
      "  Ice root: /var/folders/xg/vfy0jw4x0mn4lpflbsz480gh0000gn/T/tmpnz3s83df\n",
      "  JVM stdout: /var/folders/xg/vfy0jw4x0mn4lpflbsz480gh0000gn/T/tmpnz3s83df/h2o_akilsurya_s_started_from_python.out\n",
      "  JVM stderr: /var/folders/xg/vfy0jw4x0mn4lpflbsz480gh0000gn/T/tmpnz3s83df/h2o_akilsurya_s_started_from_python.err\n",
      "  Server is running at http://127.0.0.1:54321\n",
      "Connecting to H2O server at http://127.0.0.1:54321 ... successful.\n",
      "Warning: Your H2O cluster version is (3 months and 11 days) old.  There may be a newer version available.\n",
      "Please download and install the latest version from: https://h2o-release.s3.amazonaws.com/h2o/latest_stable.html\n"
     ]
    },
    {
     "data": {
      "text/html": [
       "\n",
       "<style>\n",
       "\n",
       "#h2o-table-1.h2o-container {\n",
       "  overflow-x: auto;\n",
       "}\n",
       "#h2o-table-1 .h2o-table {\n",
       "  /* width: 100%; */\n",
       "  margin-top: 1em;\n",
       "  margin-bottom: 1em;\n",
       "}\n",
       "#h2o-table-1 .h2o-table caption {\n",
       "  white-space: nowrap;\n",
       "  caption-side: top;\n",
       "  text-align: left;\n",
       "  /* margin-left: 1em; */\n",
       "  margin: 0;\n",
       "  font-size: larger;\n",
       "}\n",
       "#h2o-table-1 .h2o-table thead {\n",
       "  white-space: nowrap; \n",
       "  position: sticky;\n",
       "  top: 0;\n",
       "  box-shadow: 0 -1px inset;\n",
       "}\n",
       "#h2o-table-1 .h2o-table tbody {\n",
       "  overflow: auto;\n",
       "}\n",
       "#h2o-table-1 .h2o-table th,\n",
       "#h2o-table-1 .h2o-table td {\n",
       "  text-align: right;\n",
       "  /* border: 1px solid; */\n",
       "}\n",
       "#h2o-table-1 .h2o-table tr:nth-child(even) {\n",
       "  /* background: #F5F5F5 */\n",
       "}\n",
       "\n",
       "</style>      \n",
       "<div id=\"h2o-table-1\" class=\"h2o-container\">\n",
       "  <table class=\"h2o-table\">\n",
       "    <caption></caption>\n",
       "    <thead></thead>\n",
       "    <tbody><tr><td>H2O_cluster_uptime:</td>\n",
       "<td>02 secs</td></tr>\n",
       "<tr><td>H2O_cluster_timezone:</td>\n",
       "<td>America/Chicago</td></tr>\n",
       "<tr><td>H2O_data_parsing_timezone:</td>\n",
       "<td>UTC</td></tr>\n",
       "<tr><td>H2O_cluster_version:</td>\n",
       "<td>3.42.0.2</td></tr>\n",
       "<tr><td>H2O_cluster_version_age:</td>\n",
       "<td>3 months and 11 days</td></tr>\n",
       "<tr><td>H2O_cluster_name:</td>\n",
       "<td>H2O_from_python_akilsurya_s_x9gcl6</td></tr>\n",
       "<tr><td>H2O_cluster_total_nodes:</td>\n",
       "<td>1</td></tr>\n",
       "<tr><td>H2O_cluster_free_memory:</td>\n",
       "<td>8 Gb</td></tr>\n",
       "<tr><td>H2O_cluster_total_cores:</td>\n",
       "<td>8</td></tr>\n",
       "<tr><td>H2O_cluster_allowed_cores:</td>\n",
       "<td>8</td></tr>\n",
       "<tr><td>H2O_cluster_status:</td>\n",
       "<td>locked, healthy</td></tr>\n",
       "<tr><td>H2O_connection_url:</td>\n",
       "<td>http://127.0.0.1:54321</td></tr>\n",
       "<tr><td>H2O_connection_proxy:</td>\n",
       "<td>{\"http\": null, \"https\": null}</td></tr>\n",
       "<tr><td>H2O_internal_security:</td>\n",
       "<td>False</td></tr>\n",
       "<tr><td>Python_version:</td>\n",
       "<td>3.10.11 final</td></tr></tbody>\n",
       "  </table>\n",
       "</div>\n"
      ],
      "text/plain": [
       "--------------------------  ----------------------------------\n",
       "H2O_cluster_uptime:         02 secs\n",
       "H2O_cluster_timezone:       America/Chicago\n",
       "H2O_data_parsing_timezone:  UTC\n",
       "H2O_cluster_version:        3.42.0.2\n",
       "H2O_cluster_version_age:    3 months and 11 days\n",
       "H2O_cluster_name:           H2O_from_python_akilsurya_s_x9gcl6\n",
       "H2O_cluster_total_nodes:    1\n",
       "H2O_cluster_free_memory:    8 Gb\n",
       "H2O_cluster_total_cores:    8\n",
       "H2O_cluster_allowed_cores:  8\n",
       "H2O_cluster_status:         locked, healthy\n",
       "H2O_connection_url:         http://127.0.0.1:54321\n",
       "H2O_connection_proxy:       {\"http\": null, \"https\": null}\n",
       "H2O_internal_security:      False\n",
       "Python_version:             3.10.11 final\n",
       "--------------------------  ----------------------------------"
      ]
     },
     "metadata": {},
     "output_type": "display_data"
    }
   ],
   "source": [
    "#Start the H2o Cluster\n",
    "try:\n",
    "    h2o.cluster().shutdown()\n",
    "except:\n",
    "    pass\n",
    "import psutil\n",
    "\n",
    "# Initialize H2O using all available CPU cores and 90% of available memory\n",
    "num_cores = 8\n",
    "mem_size = 8\n",
    "h2o.init(nthreads=num_cores, max_mem_size=mem_size)"
   ]
  },
  {
   "cell_type": "markdown",
   "id": "cee2c254",
   "metadata": {
    "id": "cee2c254"
   },
   "source": [
    "### Load data"
   ]
  },
  {
   "cell_type": "code",
   "execution_count": 3,
   "id": "a19bd163",
   "metadata": {
    "colab": {
     "base_uri": "https://localhost:8080/"
    },
    "id": "a19bd163",
    "outputId": "824c0160-747d-44d4-acd2-786c1b2e805b"
   },
   "outputs": [
    {
     "data": {
      "text/html": [
       "<div>\n",
       "<style scoped>\n",
       "    .dataframe tbody tr th:only-of-type {\n",
       "        vertical-align: middle;\n",
       "    }\n",
       "\n",
       "    .dataframe tbody tr th {\n",
       "        vertical-align: top;\n",
       "    }\n",
       "\n",
       "    .dataframe thead th {\n",
       "        text-align: right;\n",
       "    }\n",
       "</style>\n",
       "<table border=\"1\" class=\"dataframe\">\n",
       "  <thead>\n",
       "    <tr style=\"text-align: right;\">\n",
       "      <th></th>\n",
       "      <th>index</th>\n",
       "      <th>City</th>\n",
       "      <th>State</th>\n",
       "      <th>Zip</th>\n",
       "      <th>Bank</th>\n",
       "      <th>BankState</th>\n",
       "      <th>NAICS</th>\n",
       "      <th>NoEmp</th>\n",
       "      <th>NewExist</th>\n",
       "      <th>CreateJob</th>\n",
       "      <th>RetainedJob</th>\n",
       "      <th>FranchiseCode</th>\n",
       "      <th>UrbanRural</th>\n",
       "      <th>RevLineCr</th>\n",
       "      <th>LowDoc</th>\n",
       "      <th>DisbursementGross</th>\n",
       "      <th>BalanceGross</th>\n",
       "      <th>GrAppv</th>\n",
       "      <th>SBA_Appv</th>\n",
       "      <th>MIS_Status</th>\n",
       "    </tr>\n",
       "  </thead>\n",
       "  <tbody>\n",
       "    <tr>\n",
       "      <th>0</th>\n",
       "      <td>0</td>\n",
       "      <td>GLEN BURNIE</td>\n",
       "      <td>MD</td>\n",
       "      <td>21060</td>\n",
       "      <td>BUSINESS FINANCE GROUP, INC.</td>\n",
       "      <td>VA</td>\n",
       "      <td>811111</td>\n",
       "      <td>7</td>\n",
       "      <td>1.0</td>\n",
       "      <td>6</td>\n",
       "      <td>7</td>\n",
       "      <td>1</td>\n",
       "      <td>1</td>\n",
       "      <td>0</td>\n",
       "      <td>N</td>\n",
       "      <td>743000.0</td>\n",
       "      <td>0.0</td>\n",
       "      <td>743000.0</td>\n",
       "      <td>743000.0</td>\n",
       "      <td>0</td>\n",
       "    </tr>\n",
       "    <tr>\n",
       "      <th>1</th>\n",
       "      <td>1</td>\n",
       "      <td>WEST BEND</td>\n",
       "      <td>WI</td>\n",
       "      <td>53095</td>\n",
       "      <td>JPMORGAN CHASE BANK NATL ASSOC</td>\n",
       "      <td>IL</td>\n",
       "      <td>722410</td>\n",
       "      <td>20</td>\n",
       "      <td>1.0</td>\n",
       "      <td>0</td>\n",
       "      <td>0</td>\n",
       "      <td>1</td>\n",
       "      <td>0</td>\n",
       "      <td>N</td>\n",
       "      <td>N</td>\n",
       "      <td>137000.0</td>\n",
       "      <td>0.0</td>\n",
       "      <td>137000.0</td>\n",
       "      <td>109737.0</td>\n",
       "      <td>0</td>\n",
       "    </tr>\n",
       "  </tbody>\n",
       "</table>\n",
       "</div>"
      ],
      "text/plain": [
       "   index         City State    Zip                            Bank BankState  \\\n",
       "0      0  GLEN BURNIE    MD  21060    BUSINESS FINANCE GROUP, INC.        VA   \n",
       "1      1    WEST BEND    WI  53095  JPMORGAN CHASE BANK NATL ASSOC        IL   \n",
       "\n",
       "    NAICS  NoEmp  NewExist  CreateJob  RetainedJob  FranchiseCode  UrbanRural  \\\n",
       "0  811111      7       1.0          6            7              1           1   \n",
       "1  722410     20       1.0          0            0              1           0   \n",
       "\n",
       "  RevLineCr LowDoc  DisbursementGross  BalanceGross    GrAppv  SBA_Appv  \\\n",
       "0         0      N           743000.0           0.0  743000.0  743000.0   \n",
       "1         N      N           137000.0           0.0  137000.0  109737.0   \n",
       "\n",
       "   MIS_Status  \n",
       "0           0  \n",
       "1           0  "
      ]
     },
     "execution_count": 3,
     "metadata": {},
     "output_type": "execute_result"
    }
   ],
   "source": [
    "import pandas as pd\n",
    "data = pd.read_csv('SBA_loans_project_1.csv')\n",
    "data.head(2)"
   ]
  },
  {
   "cell_type": "markdown",
   "id": "5fe1af41",
   "metadata": {
    "id": "5fe1af41"
   },
   "source": [
    "## Dataset preparation and clean-up\n",
    "\n",
    "Modify and clean-up the dataset as following:\n",
    "- Replace encode Na/Null values\n",
    "- Convert the strings styled as '$XXXX.XX' to float values. Columns = ['DisbursementGross', 'BalanceGross', 'GrAppv', 'SBA_Appv']\n",
    "- Convert MIS_Status to 0/1. Make value \"CHGOFF\" as 1\n"
   ]
  },
  {
   "cell_type": "code",
   "execution_count": 4,
   "id": "0f9f9eaa",
   "metadata": {
    "colab": {
     "base_uri": "https://localhost:8080/"
    },
    "id": "0f9f9eaa",
    "outputId": "c24853b2-ff8f-4bab-eed4-b29f5c8d05d8"
   },
   "outputs": [
    {
     "name": "stdout",
     "output_type": "stream",
     "text": [
      "Processing column and column type: City object\n",
      "Processing column and column type: State object\n",
      "Processing column and column type: Bank object\n",
      "Processing column and column type: BankState object\n",
      "Processing column and column type: NewExist float64\n",
      "Processing column and column type: RevLineCr object\n",
      "Processing column and column type: LowDoc object\n"
     ]
    }
   ],
   "source": [
    "values_to_fill = {}\n",
    "data = data.dropna(axis =0, subset=['MIS_Status'])\n",
    "for col in data.columns:\n",
    "    if data[col].isna().any() == True:\n",
    "        print(\"Processing column and column type:\", col,data[col].dtype)\n",
    "\n",
    "        if pd.api.types.is_numeric_dtype(data[col].dtype):\n",
    "            values_to_fill[col] = 0\n",
    "        else:\n",
    "            values_to_fill[col] = \"Unknown\"\n",
    "\n",
    "\n",
    "data.fillna(value=values_to_fill,inplace=True)"
   ]
  },
  {
   "cell_type": "code",
   "execution_count": 5,
   "id": "5f738a1a",
   "metadata": {
    "colab": {
     "base_uri": "https://localhost:8080/",
     "height": 382
    },
    "id": "5f738a1a",
    "outputId": "360398c5-90ad-4a77-b7a9-ee808f9535e4"
   },
   "outputs": [
    {
     "data": {
      "text/html": [
       "<div>\n",
       "<style scoped>\n",
       "    .dataframe tbody tr th:only-of-type {\n",
       "        vertical-align: middle;\n",
       "    }\n",
       "\n",
       "    .dataframe tbody tr th {\n",
       "        vertical-align: top;\n",
       "    }\n",
       "\n",
       "    .dataframe thead th {\n",
       "        text-align: right;\n",
       "    }\n",
       "</style>\n",
       "<table border=\"1\" class=\"dataframe\">\n",
       "  <thead>\n",
       "    <tr style=\"text-align: right;\">\n",
       "      <th></th>\n",
       "      <th>index</th>\n",
       "      <th>City</th>\n",
       "      <th>State</th>\n",
       "      <th>Zip</th>\n",
       "      <th>Bank</th>\n",
       "      <th>BankState</th>\n",
       "      <th>NAICS</th>\n",
       "      <th>NoEmp</th>\n",
       "      <th>NewExist</th>\n",
       "      <th>CreateJob</th>\n",
       "      <th>RetainedJob</th>\n",
       "      <th>FranchiseCode</th>\n",
       "      <th>UrbanRural</th>\n",
       "      <th>RevLineCr</th>\n",
       "      <th>LowDoc</th>\n",
       "      <th>DisbursementGross</th>\n",
       "      <th>BalanceGross</th>\n",
       "      <th>GrAppv</th>\n",
       "      <th>SBA_Appv</th>\n",
       "      <th>MIS_Status</th>\n",
       "    </tr>\n",
       "  </thead>\n",
       "  <tbody>\n",
       "    <tr>\n",
       "      <th>0</th>\n",
       "      <td>0</td>\n",
       "      <td>GLEN BURNIE</td>\n",
       "      <td>MD</td>\n",
       "      <td>21060</td>\n",
       "      <td>BUSINESS FINANCE GROUP, INC.</td>\n",
       "      <td>VA</td>\n",
       "      <td>811111</td>\n",
       "      <td>7</td>\n",
       "      <td>1.0</td>\n",
       "      <td>6</td>\n",
       "      <td>7</td>\n",
       "      <td>1</td>\n",
       "      <td>1</td>\n",
       "      <td>0</td>\n",
       "      <td>N</td>\n",
       "      <td>743000.0</td>\n",
       "      <td>0.0</td>\n",
       "      <td>743000.0</td>\n",
       "      <td>743000.0</td>\n",
       "      <td>0</td>\n",
       "    </tr>\n",
       "    <tr>\n",
       "      <th>1</th>\n",
       "      <td>1</td>\n",
       "      <td>WEST BEND</td>\n",
       "      <td>WI</td>\n",
       "      <td>53095</td>\n",
       "      <td>JPMORGAN CHASE BANK NATL ASSOC</td>\n",
       "      <td>IL</td>\n",
       "      <td>722410</td>\n",
       "      <td>20</td>\n",
       "      <td>1.0</td>\n",
       "      <td>0</td>\n",
       "      <td>0</td>\n",
       "      <td>1</td>\n",
       "      <td>0</td>\n",
       "      <td>N</td>\n",
       "      <td>N</td>\n",
       "      <td>137000.0</td>\n",
       "      <td>0.0</td>\n",
       "      <td>137000.0</td>\n",
       "      <td>109737.0</td>\n",
       "      <td>0</td>\n",
       "    </tr>\n",
       "    <tr>\n",
       "      <th>2</th>\n",
       "      <td>2</td>\n",
       "      <td>SAN DIEGO</td>\n",
       "      <td>CA</td>\n",
       "      <td>92128</td>\n",
       "      <td>UMPQUA BANK</td>\n",
       "      <td>OR</td>\n",
       "      <td>0</td>\n",
       "      <td>2</td>\n",
       "      <td>1.0</td>\n",
       "      <td>0</td>\n",
       "      <td>0</td>\n",
       "      <td>1</td>\n",
       "      <td>0</td>\n",
       "      <td>0</td>\n",
       "      <td>N</td>\n",
       "      <td>280000.0</td>\n",
       "      <td>0.0</td>\n",
       "      <td>280000.0</td>\n",
       "      <td>210000.0</td>\n",
       "      <td>0</td>\n",
       "    </tr>\n",
       "    <tr>\n",
       "      <th>3</th>\n",
       "      <td>3</td>\n",
       "      <td>WEBSTER</td>\n",
       "      <td>MA</td>\n",
       "      <td>1570</td>\n",
       "      <td>HOMETOWN BANK A CO-OPERATIVE B</td>\n",
       "      <td>MA</td>\n",
       "      <td>621310</td>\n",
       "      <td>7</td>\n",
       "      <td>1.0</td>\n",
       "      <td>0</td>\n",
       "      <td>0</td>\n",
       "      <td>1</td>\n",
       "      <td>1</td>\n",
       "      <td>0</td>\n",
       "      <td>Y</td>\n",
       "      <td>144500.0</td>\n",
       "      <td>0.0</td>\n",
       "      <td>144500.0</td>\n",
       "      <td>122825.0</td>\n",
       "      <td>0</td>\n",
       "    </tr>\n",
       "    <tr>\n",
       "      <th>4</th>\n",
       "      <td>4</td>\n",
       "      <td>JOPLIN</td>\n",
       "      <td>MO</td>\n",
       "      <td>64804</td>\n",
       "      <td>U.S. BANK NATIONAL ASSOCIATION</td>\n",
       "      <td>OH</td>\n",
       "      <td>0</td>\n",
       "      <td>2</td>\n",
       "      <td>2.0</td>\n",
       "      <td>0</td>\n",
       "      <td>0</td>\n",
       "      <td>1</td>\n",
       "      <td>0</td>\n",
       "      <td>N</td>\n",
       "      <td>Y</td>\n",
       "      <td>52500.0</td>\n",
       "      <td>0.0</td>\n",
       "      <td>52500.0</td>\n",
       "      <td>42000.0</td>\n",
       "      <td>0</td>\n",
       "    </tr>\n",
       "  </tbody>\n",
       "</table>\n",
       "</div>"
      ],
      "text/plain": [
       "   index         City State    Zip                            Bank BankState  \\\n",
       "0      0  GLEN BURNIE    MD  21060    BUSINESS FINANCE GROUP, INC.        VA   \n",
       "1      1    WEST BEND    WI  53095  JPMORGAN CHASE BANK NATL ASSOC        IL   \n",
       "2      2    SAN DIEGO    CA  92128                     UMPQUA BANK        OR   \n",
       "3      3      WEBSTER    MA   1570  HOMETOWN BANK A CO-OPERATIVE B        MA   \n",
       "4      4       JOPLIN    MO  64804  U.S. BANK NATIONAL ASSOCIATION        OH   \n",
       "\n",
       "    NAICS  NoEmp  NewExist  CreateJob  RetainedJob  FranchiseCode  UrbanRural  \\\n",
       "0  811111      7       1.0          6            7              1           1   \n",
       "1  722410     20       1.0          0            0              1           0   \n",
       "2       0      2       1.0          0            0              1           0   \n",
       "3  621310      7       1.0          0            0              1           1   \n",
       "4       0      2       2.0          0            0              1           0   \n",
       "\n",
       "  RevLineCr LowDoc  DisbursementGross  BalanceGross    GrAppv  SBA_Appv  \\\n",
       "0         0      N           743000.0           0.0  743000.0  743000.0   \n",
       "1         N      N           137000.0           0.0  137000.0  109737.0   \n",
       "2         0      N           280000.0           0.0  280000.0  210000.0   \n",
       "3         0      Y           144500.0           0.0  144500.0  122825.0   \n",
       "4         N      Y            52500.0           0.0   52500.0   42000.0   \n",
       "\n",
       "   MIS_Status  \n",
       "0           0  \n",
       "1           0  \n",
       "2           0  \n",
       "3           0  \n",
       "4           0  "
      ]
     },
     "execution_count": 5,
     "metadata": {},
     "output_type": "execute_result"
    }
   ],
   "source": [
    "data.head()"
   ]
  },
  {
   "cell_type": "code",
   "execution_count": 6,
   "id": "16db132b",
   "metadata": {
    "colab": {
     "base_uri": "https://localhost:8080/"
    },
    "id": "16db132b",
    "outputId": "c937bd1c-974f-404f-e84f-0b6c6b98100e"
   },
   "outputs": [
    {
     "data": {
      "text/plain": [
       "index                0\n",
       "City                 0\n",
       "State                0\n",
       "Zip                  0\n",
       "Bank                 0\n",
       "BankState            0\n",
       "NAICS                0\n",
       "NoEmp                0\n",
       "NewExist             0\n",
       "CreateJob            0\n",
       "RetainedJob          0\n",
       "FranchiseCode        0\n",
       "UrbanRural           0\n",
       "RevLineCr            0\n",
       "LowDoc               0\n",
       "DisbursementGross    0\n",
       "BalanceGross         0\n",
       "GrAppv               0\n",
       "SBA_Appv             0\n",
       "MIS_Status           0\n",
       "dtype: int64"
      ]
     },
     "execution_count": 6,
     "metadata": {},
     "output_type": "execute_result"
    }
   ],
   "source": [
    "data.isnull().sum()"
   ]
  },
  {
   "cell_type": "code",
   "execution_count": 7,
   "id": "2a93595c",
   "metadata": {
    "colab": {
     "base_uri": "https://localhost:8080/"
    },
    "id": "2a93595c",
    "outputId": "032901d7-10f7-46ef-c7e3-c162f01fdecb"
   },
   "outputs": [
    {
     "data": {
      "text/plain": [
       "{'City': 'Unknown',\n",
       " 'State': 'Unknown',\n",
       " 'Bank': 'Unknown',\n",
       " 'BankState': 'Unknown',\n",
       " 'NewExist': 0,\n",
       " 'RevLineCr': 'Unknown',\n",
       " 'LowDoc': 'Unknown'}"
      ]
     },
     "execution_count": 7,
     "metadata": {},
     "output_type": "execute_result"
    }
   ],
   "source": [
    "values_to_fill"
   ]
  },
  {
   "cell_type": "markdown",
   "id": "5666803f",
   "metadata": {
    "id": "5666803f"
   },
   "source": [
    "## Adding new features and interactions"
   ]
  },
  {
   "cell_type": "code",
   "execution_count": 8,
   "id": "4f7b0d95",
   "metadata": {
    "colab": {
     "base_uri": "https://localhost:8080/"
    },
    "id": "4f7b0d95",
    "outputId": "e966da0a-69c5-492c-fd1b-60f87642822f"
   },
   "outputs": [
    {
     "name": "stdout",
     "output_type": "stream",
     "text": [
      "<class 'pandas.core.frame.DataFrame'>\n",
      "RangeIndex: 809247 entries, 0 to 809246\n",
      "Data columns (total 22 columns):\n",
      " #   Column                   Non-Null Count   Dtype  \n",
      "---  ------                   --------------   -----  \n",
      " 0   index                    809247 non-null  int64  \n",
      " 1   City                     809247 non-null  object \n",
      " 2   State                    809247 non-null  object \n",
      " 3   Zip                      809247 non-null  int64  \n",
      " 4   Bank                     809247 non-null  object \n",
      " 5   BankState                809247 non-null  object \n",
      " 6   NAICS                    809247 non-null  int64  \n",
      " 7   NoEmp                    809247 non-null  int64  \n",
      " 8   NewExist                 809247 non-null  float64\n",
      " 9   CreateJob                809247 non-null  int64  \n",
      " 10  RetainedJob              809247 non-null  int64  \n",
      " 11  FranchiseCode            809247 non-null  int64  \n",
      " 12  UrbanRural               809247 non-null  int64  \n",
      " 13  RevLineCr                809247 non-null  object \n",
      " 14  LowDoc                   809247 non-null  object \n",
      " 15  DisbursementGross        809247 non-null  float64\n",
      " 16  BalanceGross             809247 non-null  float64\n",
      " 17  GrAppv                   809247 non-null  float64\n",
      " 18  SBA_Appv                 809247 non-null  float64\n",
      " 19  MIS_Status               809247 non-null  int64  \n",
      " 20  SBA_Bank_Gurantee_Ratio  809247 non-null  float64\n",
      " 21  industry_code            809247 non-null  int64  \n",
      "dtypes: float64(6), int64(10), object(6)\n",
      "memory usage: 135.8+ MB\n"
     ]
    }
   ],
   "source": [
    "\n",
    "# Feature Engineering - Adding a new column SBA_Bank_Gurantee_Ratio which signifies The portion which is guranteed by the SBA Bank\n",
    "\n",
    "data['SBA_Bank_Gurantee_Ratio'] = data['SBA_Appv'] / data['GrAppv']\n",
    "\n",
    "\n",
    "\n",
    "\n",
    "industry_code = data['NAICS']\n",
    "\n",
    "#Function to take the first 2 digits of the code\n",
    "def get_code(industry_code):\n",
    "    return int(str(industry_code)[:2])\n",
    "\n",
    "## Feature Engineering - Adding a new column namely industry_code\n",
    "data['industry_code'] = data.NAICS.apply(get_code)\n",
    "\n",
    "data.info()\n",
    "\n"
   ]
  },
  {
   "cell_type": "markdown",
   "id": "b7f21dcf",
   "metadata": {
    "id": "b7f21dcf"
   },
   "source": [
    "## Categorical and numerical variables encoding\n",
    "\n",
    "Encode categorical variables using either one of the techniques below. Don't use LabelEncoder.\n",
    "- One-hot-encoder for variables with less than 10 valid values. Name your new columns \"Original_name\"_valid_value\n",
    "- Target encoder from the following library: https://contrib.scikit-learn.org/category_encoders/index.html . Name your new column \"Original_name\"_trg\n",
    "- WOE encoder from the following library: https://contrib.scikit-learn.org/category_encoders/index.html . Name your new column \"Original_name\"_woe\n",
    "\n",
    "\n",
    "WOE encoder can be used with numerical variables too.\n",
    "\n",
    "\n",
    "Example of use for target encoder:\n",
    "```\n",
    "import category_encoders as ce\n",
    "\n",
    "encoder = ce.TargetEncoder(cols=[...])\n",
    "\n",
    "encoder.fit(X, y)\n",
    "X_cleaned = encoder.transform(X_dirty)\n",
    "```"
   ]
  },
  {
   "cell_type": "code",
   "execution_count": 9,
   "id": "1753e7fb",
   "metadata": {
    "colab": {
     "base_uri": "https://localhost:8080/"
    },
    "id": "1753e7fb",
    "outputId": "17efd3eb-79ec-47b9-bdea-f013479608f8"
   },
   "outputs": [
    {
     "name": "stdout",
     "output_type": "stream",
     "text": [
      "Training data size: 485547\n",
      "Validation data size: 161850\n",
      "Test data size: 161850\n"
     ]
    }
   ],
   "source": [
    "from sklearn.model_selection import train_test_split\n",
    "\n",
    "# Split the data into training (80%) and test (20%) sets\n",
    "train_data, test_data = train_test_split(data, test_size=0.2, random_state=42)\n",
    "\n",
    "# Split the training data into training (60%) and validation (20%) sets\n",
    "train_data, val_data = train_test_split(train_data, test_size=0.25, random_state=42)\n",
    "\n",
    "# Print the sizes of the resulting datasets\n",
    "print(\"Training data size:\", train_data.shape[0])\n",
    "print(\"Validation data size:\", val_data.shape[0])\n",
    "print(\"Test data size:\", test_data.shape[0])"
   ]
  },
  {
   "cell_type": "code",
   "execution_count": 10,
   "id": "4fef1d2e",
   "metadata": {
    "colab": {
     "base_uri": "https://localhost:8080/"
    },
    "id": "4fef1d2e",
    "outputId": "3617aa30-629b-4787-c0a2-b069de341372"
   },
   "outputs": [],
   "source": [
    "from copy import deepcopy\n",
    "from sklearn.preprocessing import OneHotEncoder, LabelEncoder\n",
    "import category_encoders as ce\n",
    "\n",
    "\n",
    "#Columns to drop from ML models\n",
    "cols_to_drop = []\n",
    "#Categorical encoders disctionary\n",
    "cat_encoders = {}\n",
    "#New categorical (encoded) columns\n",
    "cat_enc_columns = []\n",
    "label_col = 'MIS_Status'\n",
    "index_col = 'index'\n",
    "\n",
    "for col in train_data.drop(columns=[label_col]+[index_col]).columns:\n",
    "  if train_data[col].dtype == 'object':\n",
    "    if train_data[col].nunique() < 10:\n",
    "        \n",
    "        enc = OneHotEncoder(handle_unknown='ignore', sparse=False)\n",
    "        enc.fit(train_data[[col]])\n",
    "        result = enc.transform(train_data[[col]])\n",
    "        ohe_columns = [col+\"_\"+str(x) for x in enc.categories_[0]]\n",
    "        cat_enc_columns = cat_enc_columns + ohe_columns\n",
    "        result_train = pd.DataFrame(result, columns=ohe_columns)\n",
    "        train_data = pd.concat([train_data, result_train], axis=1)\n",
    "        '''Encode Testing'''\n",
    "        result = enc.transform(test_data[[col]])\n",
    "        result_test = pd.DataFrame(result, columns=ohe_columns)\n",
    "        test_data = pd.concat([test_data, result_test], axis=1)\n",
    "        '''Encode Validation'''\n",
    "        result = enc.transform(val_data[[col]])\n",
    "        result_val = pd.DataFrame(result, columns=ohe_columns)\n",
    "        val_data = pd.concat([val_data, result_val], axis=1)\n",
    "        cat_encoders[col] = [deepcopy(enc),\"ohe\"]\n",
    "    else:\n",
    "        \n",
    "        woe_encoder = ce.WOEEncoder(cols=[col], regularization=1, sigma=0.05)\n",
    "        woe_encoder.fit(train_data[col], train_data[label_col])\n",
    "        new_col_name = col+\"_woe\"\n",
    "        train_data[new_col_name] = woe_encoder.transform(train_data[[col]])\n",
    "        test_data[new_col_name] = woe_encoder.transform(test_data[[col]])\n",
    "        val_data[new_col_name] = woe_encoder.transform(val_data[[col]])\n",
    "        cat_encoders[col] = [deepcopy(woe_encoder),\"woe\"]\n",
    "        cat_enc_columns.append(new_col_name)\n",
    "    cols_to_drop.append(col)"
   ]
  },
  {
   "cell_type": "code",
   "execution_count": 11,
   "id": "c5470937-181e-4412-9d5b-04584fbca24f",
   "metadata": {},
   "outputs": [
    {
     "data": {
      "text/plain": [
       "Index(['index', 'City', 'State', 'Zip', 'Bank', 'BankState', 'NAICS', 'NoEmp',\n",
       "       'NewExist', 'CreateJob', 'RetainedJob', 'FranchiseCode', 'UrbanRural',\n",
       "       'RevLineCr', 'LowDoc', 'DisbursementGross', 'BalanceGross', 'GrAppv',\n",
       "       'SBA_Appv', 'MIS_Status', 'SBA_Bank_Gurantee_Ratio', 'industry_code',\n",
       "       'City_woe', 'State_woe', 'Bank_woe', 'BankState_woe', 'RevLineCr_woe',\n",
       "       'LowDoc_0', 'LowDoc_1', 'LowDoc_A', 'LowDoc_C', 'LowDoc_N', 'LowDoc_R',\n",
       "       'LowDoc_S', 'LowDoc_Unknown', 'LowDoc_Y'],\n",
       "      dtype='object')"
      ]
     },
     "execution_count": 11,
     "metadata": {},
     "output_type": "execute_result"
    }
   ],
   "source": [
    "train_data.columns"
   ]
  },
  {
   "cell_type": "code",
   "execution_count": 12,
   "id": "e19ed022",
   "metadata": {
    "colab": {
     "base_uri": "https://localhost:8080/"
    },
    "id": "e19ed022",
    "outputId": "5824a8ae-2121-4812-bc65-ff4143bbb0f5"
   },
   "outputs": [
    {
     "name": "stdout",
     "output_type": "stream",
     "text": [
      "Training data size: 679987\n",
      "Validation data size: 291286\n",
      "Test data size: 291355\n"
     ]
    }
   ],
   "source": [
    "print(\"Training data size:\", train_data.shape[0])\n",
    "print(\"Validation data size:\", val_data.shape[0])\n",
    "print(\"Test data size:\", test_data.shape[0])"
   ]
  },
  {
   "cell_type": "code",
   "execution_count": 13,
   "id": "a0ead3e3",
   "metadata": {
    "id": "a0ead3e3"
   },
   "outputs": [],
   "source": [
    "train_data = train_data.dropna(subset=label_col)\n",
    "val_data = val_data.dropna(subset=label_col)\n",
    "test_data = test_data.dropna(subset=label_col)"
   ]
  },
  {
   "cell_type": "code",
   "execution_count": 14,
   "id": "64d732ee",
   "metadata": {
    "colab": {
     "base_uri": "https://localhost:8080/"
    },
    "id": "64d732ee",
    "outputId": "dcf11450-41ff-4c6a-9b44-f2a70778da5f"
   },
   "outputs": [
    {
     "name": "stdout",
     "output_type": "stream",
     "text": [
      "Train data shape: (485547, 36)\n",
      "Validation data shape: (161850, 36)\n",
      "Test data shape: (161850, 36)\n"
     ]
    }
   ],
   "source": [
    "print(\"Train data shape:\", train_data.shape)\n",
    "print(\"Validation data shape:\", val_data.shape)\n",
    "print(\"Test data shape:\", test_data.shape)\n"
   ]
  },
  {
   "cell_type": "markdown",
   "id": "5466b303",
   "metadata": {
    "id": "5466b303"
   },
   "source": [
    "# Feature engineering using polynomial terms"
   ]
  },
  {
   "cell_type": "code",
   "execution_count": 15,
   "id": "9111d77a",
   "metadata": {
    "id": "9111d77a"
   },
   "outputs": [],
   "source": [
    "poly_colname = []\n",
    "def add_sqr_feature(df, col):\n",
    "    col_name = col + \"_squared\"\n",
    "    df[col_name] = df[col].apply(lambda x: x**2)\n",
    "    poly_colname.append(col_name)\n",
    "    return df"
   ]
  },
  {
   "cell_type": "code",
   "execution_count": 16,
   "id": "086e8ada",
   "metadata": {
    "id": "086e8ada"
   },
   "outputs": [],
   "source": [
    "def add_cubic_feature(df, column_name):\n",
    "    new_column_name = column_name + \"cube\"\n",
    "    df[new_column_name] = df[column_name] ** 3\n",
    "    poly_colname.append(new_column_name)\n",
    "    return df\n",
    "\n"
   ]
  },
  {
   "cell_type": "code",
   "execution_count": 17,
   "id": "4e9d7593",
   "metadata": {
    "id": "4e9d7593"
   },
   "outputs": [],
   "source": [
    "#Feature engineered columns using interaction features\n",
    "def add_interaction_features(train, valid, test):\n",
    "    # Create interaction features \n",
    "    interaction_cols = [\"DisbursementGross_sc\", \"SBA_Bank_Gurantee_Ratio_sc\"]\n",
    "    for i in range(len(interaction_cols)):\n",
    "        for j in range(i+1, len(interaction_cols)):\n",
    "            colname = interaction_cols[i] + \"_\" + interaction_cols[j]+ \"interaction\"\n",
    "            train[colname] = train[interaction_cols[i]] * train[interaction_cols[j]]\n",
    "            valid[colname] = valid[interaction_cols[i]] * valid[interaction_cols[j]]\n",
    "            test[colname] = test[interaction_cols[i]] * test[interaction_cols[j]]\n",
    "            selected_columns.append(colname)\n",
    "    return train, valid, test"
   ]
  },
  {
   "cell_type": "markdown",
   "id": "7bb0bfa4",
   "metadata": {
    "id": "7bb0bfa4"
   },
   "source": [
    "# Model Training\n",
    "\n"
   ]
  },
  {
   "cell_type": "code",
   "execution_count": 18,
   "id": "ef176e08",
   "metadata": {
    "colab": {
     "base_uri": "https://localhost:8080/"
    },
    "id": "ef176e08",
    "outputId": "0551f937-dd49-415c-ec79-dcd929f4c3d4"
   },
   "outputs": [
    {
     "name": "stdout",
     "output_type": "stream",
     "text": [
      "Column to process: Zip\n",
      "Column to process: NAICS\n",
      "Column to process: NoEmp\n",
      "Column to process: NewExist\n",
      "Column to process: CreateJob\n",
      "Column to process: RetainedJob\n",
      "Column to process: FranchiseCode\n",
      "Column to process: UrbanRural\n",
      "Column to process: DisbursementGross\n",
      "Column to process: BalanceGross\n",
      "Column to process: GrAppv\n",
      "Column to process: SBA_Appv\n",
      "Column to process: SBA_Bank_Gurantee_Ratio\n",
      "Column to process: industry_code\n"
     ]
    }
   ],
   "source": [
    "#Columns to scale\n",
    "cols_numerical_sc = []\n",
    "cols_numerical_orig = []\n",
    "for col in train_data.drop(columns=[label_col]+cat_enc_columns+cols_to_drop+[index_col]):\n",
    "    if pd.api.types.is_numeric_dtype(train_data[col].dtype):\n",
    "        print('Column to process:', col)\n",
    "        cols_numerical_orig.append(col)"
   ]
  },
  {
   "cell_type": "markdown",
   "id": "1136e3eb",
   "metadata": {
    "id": "1136e3eb"
   },
   "source": [
    "# Feature engineering using Scalar transformations"
   ]
  },
  {
   "cell_type": "code",
   "execution_count": 19,
   "id": "b6e594eb",
   "metadata": {
    "colab": {
     "base_uri": "https://localhost:8080/"
    },
    "id": "b6e594eb",
    "outputId": "ae2862fe-dae1-46ad-c50b-fc7247a2caeb"
   },
   "outputs": [
    {
     "name": "stdout",
     "output_type": "stream",
     "text": [
      "StandardScaler scale of  Zip\n",
      "StandardScaler scale of  NAICS\n",
      "StandardScaler scale of  NoEmp\n",
      "StandardScaler scale of  NewExist\n",
      "StandardScaler scale of  CreateJob\n",
      "StandardScaler scale of  RetainedJob\n",
      "StandardScaler scale of  FranchiseCode\n",
      "StandardScaler scale of  UrbanRural\n",
      "StandardScaler scale of  DisbursementGross\n",
      "StandardScaler scale of  BalanceGross\n",
      "StandardScaler scale of  GrAppv\n",
      "StandardScaler scale of  SBA_Appv\n",
      "StandardScaler scale of  SBA_Bank_Gurantee_Ratio\n",
      "StandardScaler scale of  industry_code\n",
      "Original numerical columns: ['Zip', 'NAICS', 'NoEmp', 'NewExist', 'CreateJob', 'RetainedJob', 'FranchiseCode', 'UrbanRural', 'DisbursementGross', 'BalanceGross', 'GrAppv', 'SBA_Appv', 'SBA_Bank_Gurantee_Ratio', 'industry_code']\n",
      "Scaled numerical columns: ['Zip_sc', 'NAICS_sc', 'NoEmp_sc', 'NewExist_sc', 'CreateJob_sc', 'RetainedJob_sc', 'FranchiseCode_sc', 'UrbanRural_sc', 'DisbursementGross_sc', 'BalanceGross_sc', 'GrAppv_sc', 'SBA_Appv_sc', 'SBA_Bank_Gurantee_Ratio_sc', 'industry_code_sc']\n"
     ]
    }
   ],
   "source": [
    "\n",
    "from sklearn.preprocessing import StandardScaler\n",
    "num_scalers = {}\n",
    "\n",
    "for col in train_data[cols_numerical_orig]:\n",
    "  if pd.api.types.is_numeric_dtype(train_data[col].dtype):\n",
    "    print(\"StandardScaler scale of \", col)\n",
    "    scaler = StandardScaler()\n",
    "    scaler.fit(train_data[[col]])\n",
    "    train_data[col+\"_sc\"] = scaler.transform(train_data[[col]])\n",
    "    test_data[col+\"_sc\"] = scaler.transform(test_data[[col]])\n",
    "    val_data[col+\"_sc\"] = scaler.transform(val_data[[col]])\n",
    "\n",
    "    num_scalers[col] = [deepcopy(scaler),\"StandardScaler\"]\n",
    "    cols_numerical_sc.append(col+\"_sc\")\n",
    "    cols_to_drop.append(col)\n",
    "\n",
    "\n",
    "print(\"Original numerical columns:\",cols_numerical_orig)\n",
    "\n",
    "selected_columns = cols_numerical_sc + cat_enc_columns\n",
    "print(\"Scaled numerical columns:\",cols_numerical_sc)"
   ]
  },
  {
   "cell_type": "code",
   "execution_count": 20,
   "id": "f421760d",
   "metadata": {
    "colab": {
     "base_uri": "https://localhost:8080/"
    },
    "id": "f421760d",
    "outputId": "22e3f995-56f5-44d0-eeff-74f0368a7c79"
   },
   "outputs": [
    {
     "name": "stdout",
     "output_type": "stream",
     "text": [
      "Train data shape: (485547, 54)\n",
      "Validation data shape: (161850, 54)\n",
      "Test data shape: (161850, 54)\n"
     ]
    }
   ],
   "source": [
    "\n",
    "# Call the function to add the polynomial expressions  to the dataframes as a part of feature engineering\n",
    "\n",
    "\n",
    "train_data = add_sqr_feature(train_data, \"Bank_woe\")\n",
    "val_data = add_sqr_feature(val_data, \"Bank_woe\")\n",
    "test_data = add_sqr_feature(test_data, \"Bank_woe\")\n",
    "\n",
    "train_data = add_sqr_feature(train_data, \"City_woe\")\n",
    "val_data = add_sqr_feature(val_data, \"City_woe\")\n",
    "test_data = add_sqr_feature(test_data, \"City_woe\")\n",
    "\n",
    "train_data = add_sqr_feature(train_data, \"BankState_woe\")\n",
    "val_data = add_sqr_feature(val_data, \"BankState_woe\")\n",
    "test_data = add_sqr_feature(test_data, \"BankState_woe\")\n",
    "\n",
    "train_data = add_sqr_feature(train_data, \"UrbanRural_sc\")\n",
    "val_data = add_sqr_feature(val_data, \"UrbanRural_sc\")\n",
    "test_data = add_sqr_feature(test_data, \"UrbanRural_sc\")\n",
    "\n",
    "\n",
    "\n",
    "print(\"Train data shape:\", train_data.shape)\n",
    "print(\"Validation data shape:\", val_data.shape)\n",
    "print(\"Test data shape:\", test_data.shape)"
   ]
  },
  {
   "cell_type": "code",
   "execution_count": 21,
   "id": "8feeb5e2",
   "metadata": {
    "id": "8feeb5e2"
   },
   "outputs": [],
   "source": [
    "\n",
    "# Call the function to add the interaction features to the dataframes as a part of feature engineering\n",
    "train_data, val_data, test_data = add_interaction_features(train_data, val_data, test_data)"
   ]
  },
  {
   "cell_type": "code",
   "execution_count": 22,
   "id": "24f11a56",
   "metadata": {
    "colab": {
     "base_uri": "https://localhost:8080/"
    },
    "id": "24f11a56",
    "outputId": "59f64bb3-72a5-4c0d-f15e-459301a4ae0d"
   },
   "outputs": [
    {
     "name": "stdout",
     "output_type": "stream",
     "text": [
      "Parse progress: |████████████████████████████████████████████████████████████████| (done) 100%\n",
      "Parse progress: |████████████████████████████████████████████████████████████████| (done) 100%\n",
      "Parse progress: |████████████████████████████████████████████████████████████████| (done) 100%\n",
      "Predictor columns: ['Zip_sc', 'NAICS_sc', 'NoEmp_sc', 'NewExist_sc', 'CreateJob_sc', 'RetainedJob_sc', 'FranchiseCode_sc', 'UrbanRural_sc', 'DisbursementGross_sc', 'BalanceGross_sc', 'GrAppv_sc', 'SBA_Appv_sc', 'SBA_Bank_Gurantee_Ratio_sc', 'industry_code_sc', 'City_woe', 'State_woe', 'Bank_woe', 'BankState_woe', 'RevLineCr_woe', 'LowDoc_0', 'LowDoc_1', 'LowDoc_A', 'LowDoc_C', 'LowDoc_N', 'LowDoc_R', 'LowDoc_S', 'LowDoc_Unknown', 'LowDoc_Y']\n"
     ]
    }
   ],
   "source": [
    "\n",
    "selected_columns = cols_numerical_sc + cat_enc_columns\n",
    "\n",
    "train_hf = h2o.H2OFrame(train_data)\n",
    "val_hf = h2o.H2OFrame(val_data)\n",
    "test_hf = h2o.H2OFrame(test_data)\n",
    "print(\"Predictor columns:\", selected_columns)\n",
    "\n"
   ]
  },
  {
   "cell_type": "code",
   "execution_count": 23,
   "id": "3d458336",
   "metadata": {
    "id": "3d458336"
   },
   "outputs": [],
   "source": [
    "#Ensure the columns are in numreric\n",
    "def _convert_h2oframe_to_numeric(h2o_frame, training_columns):\n",
    "    for column in training_columns:\n",
    "        h2o_frame[column] = h2o_frame[column].asnumeric()\n",
    "    return h2o_frame"
   ]
  },
  {
   "cell_type": "code",
   "execution_count": 24,
   "id": "dfbbfbb4",
   "metadata": {
    "id": "dfbbfbb4"
   },
   "outputs": [],
   "source": [
    "_convert_h2oframe_to_numeric(val_hf, selected_columns)\n",
    "_convert_h2oframe_to_numeric(train_hf,selected_columns)\n",
    "_convert_h2oframe_to_numeric(test_hf, selected_columns)\n",
    "test_hf[label_col] = test_hf[label_col].asnumeric()\n",
    "train_hfi = train_hf\n",
    "val_hfi = val_hf\n",
    "test_hfi = test_hf\n",
    "\n",
    "\n",
    "allcolumns=selected_columns+poly_colname"
   ]
  },
  {
   "cell_type": "markdown",
   "id": "e76f020e",
   "metadata": {
    "id": "e76f020e"
   },
   "source": [
    "# Generic GLM model to determine the model performance"
   ]
  },
  {
   "cell_type": "code",
   "execution_count": 25,
   "id": "f7fa0738",
   "metadata": {
    "colab": {
     "base_uri": "https://localhost:8080/"
    },
    "id": "f7fa0738",
    "outputId": "cfe39954-bdaa-4003-e26c-a17a59e9ff03"
   },
   "outputs": [
    {
     "name": "stdout",
     "output_type": "stream",
     "text": [
      "glm Model Build progress: |██████████████████████████████████████████████████████| (done) 100%\n",
      "Best accuracy threshold: 0.29167072321014414 \n",
      "  Accuracy: 0.8249860982391103\n",
      "Best F1 threshold: 0.23862685523725252 \n",
      "  F1: 0.3974039347460842\n",
      "Model AUC: 0.6939112486738039\n",
      "Model AUCPR: 0.32643776700961474\n",
      "glm Model Build progress: |██████████████████████████████████████████████████████| (done) 100%\n",
      "Best accuracy threshold: 0.3045452750116448 \n",
      "  Accuracy: 0.8245288847698486\n",
      "Best F1 threshold: 0.23459815196931447 \n",
      "  F1: 0.3995289932230142\n",
      "Model AUC: 0.6970807989095982\n",
      "Model AUCPR: 0.32454143346696895\n"
     ]
    }
   ],
   "source": [
    "\n",
    "glm = H2OGeneralizedLinearEstimator(nfolds=0, seed=123, solver=\"L_BFGS\",\n",
    "                                    model_id='glm_v1',family=\"binomial\", lambda_search=True)\n",
    "\n",
    "glm.train(x= selected_columns, y= label_col, training_frame=train_hf,validation_frame=val_hf)\n",
    "\n",
    "model_summary = glm.summary()\n",
    "model_summary\n",
    "\n",
    "print(\"Best accuracy threshold:\",glm.model_performance(test_hf).accuracy()[0][0],\"\\n\",\n",
    "      \" Accuracy:\",\n",
    "      glm.model_performance(test_hf).accuracy()[0][1])\n",
    "print(\"Best F1 threshold:\",glm.model_performance(test_hf).F1()[0][0],\"\\n\",\n",
    "      \" F1:\",\n",
    "      glm.model_performance(test_hf).F1()[0][1])\n",
    "print(\"Model AUC:\", glm.model_performance(test_hf).auc())\n",
    "print(\"Model AUCPR:\", glm.model_performance(test_hf).aucpr())\n",
    "\n",
    "glmall = H2OGeneralizedLinearEstimator(nfolds=0, seed=123, solver=\"L_BFGS\",\n",
    "                                    model_id='glm_all',family=\"binomial\", lambda_search=True)\n",
    "glmall.train(x= allcolumns, y= label_col, training_frame=train_hfi,validation_frame=val_hfi)\n",
    "print(\"Best accuracy threshold:\",glmall.model_performance(test_hfi).accuracy()[0][0],\"\\n\",\n",
    "      \" Accuracy:\",\n",
    "      glmall.model_performance(test_hfi).accuracy()[0][1])\n",
    "print(\"Best F1 threshold:\",glmall.model_performance(test_hfi).F1()[0][0],\"\\n\",\n",
    "      \" F1:\",\n",
    "      glmall.model_performance(test_hfi).F1()[0][1])\n",
    "print(\"Model AUC:\", glmall.model_performance(test_hfi).auc())\n",
    "print(\"Model AUCPR:\", glmall.model_performance(test_hfi).aucpr())\n"
   ]
  },
  {
   "cell_type": "markdown",
   "id": "333cfad5",
   "metadata": {
    "id": "333cfad5"
   },
   "source": []
  },
  {
   "cell_type": "code",
   "execution_count": null,
   "id": "d84e4f1e",
   "metadata": {
    "id": "d84e4f1e"
   },
   "outputs": [],
   "source": [
    "\n",
    "\n"
   ]
  },
  {
   "cell_type": "markdown",
   "id": "ced690c6",
   "metadata": {
    "id": "ced690c6"
   },
   "source": [
    "## Model Tuning\n",
    "\n",
    "Choose one model from the above list. You should provide reasoning on why you have picked the model over others. Perform tuning for the selected model:\n",
    "- Hyper-parameter tuning. Your hyper-parameter search space should have at least 50 combinations.\n",
    "- To avoid overfitting and provide you with reasonable estimate of model performance on hold-out dataset, you will need to split your dataset as following:\n",
    "    - Train, will be used to train model\n",
    "    - Validation, will be used to validate model each round of training\n",
    "    - Testing, will be used to provide final performance metrics, used only once on the final model\n",
    "- Feature engineering. See project description\n",
    "\n",
    "**Selelct final model that produces best performance on the Test dataset.**\n",
    "- For the best model, calculate probability threshold to maximize F1."
   ]
  },
  {
   "cell_type": "markdown",
   "id": "df46a179",
   "metadata": {
    "id": "df46a179"
   },
   "source": [
    "# Try important columns alone"
   ]
  },
  {
   "cell_type": "code",
   "execution_count": 26,
   "id": "8c39f22d",
   "metadata": {
    "id": "8c39f22d"
   },
   "outputs": [],
   "source": [
    "\n",
    "important_columns = [ 'DisbursementGross_sc_SBA_Bank_Gurantee_Ratio_scinteraction','DisbursementGross_sc', 'BalanceGross_sc', 'GrAppv_sc', 'SBA_Appv_sc', 'SBA_Bank_Gurantee_Ratio_sc', 'industry_code_sc']\n"
   ]
  },
  {
   "cell_type": "code",
   "execution_count": 27,
   "id": "fe0943ff",
   "metadata": {
    "colab": {
     "base_uri": "https://localhost:8080/",
     "height": 1000
    },
    "id": "fe0943ff",
    "outputId": "ff7f7592-0923-4fcb-bb1a-74ad627f00c4"
   },
   "outputs": [
    {
     "name": "stdout",
     "output_type": "stream",
     "text": [
      "glm Grid Build progress: |███████████████████████████████████████████████████████| (done) 100%\n"
     ]
    },
    {
     "data": {
      "text/html": [
       "\n",
       "<style>\n",
       "\n",
       "#h2o-table-2.h2o-container {\n",
       "  overflow-x: auto;\n",
       "}\n",
       "#h2o-table-2 .h2o-table {\n",
       "  /* width: 100%; */\n",
       "  margin-top: 1em;\n",
       "  margin-bottom: 1em;\n",
       "}\n",
       "#h2o-table-2 .h2o-table caption {\n",
       "  white-space: nowrap;\n",
       "  caption-side: top;\n",
       "  text-align: left;\n",
       "  /* margin-left: 1em; */\n",
       "  margin: 0;\n",
       "  font-size: larger;\n",
       "}\n",
       "#h2o-table-2 .h2o-table thead {\n",
       "  white-space: nowrap; \n",
       "  position: sticky;\n",
       "  top: 0;\n",
       "  box-shadow: 0 -1px inset;\n",
       "}\n",
       "#h2o-table-2 .h2o-table tbody {\n",
       "  overflow: auto;\n",
       "}\n",
       "#h2o-table-2 .h2o-table th,\n",
       "#h2o-table-2 .h2o-table td {\n",
       "  text-align: right;\n",
       "  /* border: 1px solid; */\n",
       "}\n",
       "#h2o-table-2 .h2o-table tr:nth-child(even) {\n",
       "  /* background: #F5F5F5 */\n",
       "}\n",
       "\n",
       "</style>      \n",
       "<div id=\"h2o-table-2\" class=\"h2o-container\">\n",
       "  <table class=\"h2o-table\">\n",
       "    <caption>Grid Summary</caption>\n",
       "    <thead><tr><th>Model Id</th>\n",
       "<th>family</th>\n",
       "<th>link</th>\n",
       "<th>regularization</th>\n",
       "<th>lambda_search</th>\n",
       "<th>number_of_predictors_total</th>\n",
       "<th>number_of_active_predictors</th>\n",
       "<th>number_of_iterations</th>\n",
       "<th>training_frame</th></tr></thead>\n",
       "    <tbody><tr><td>grid_search1_model_1</td>\n",
       "<td>binomial</td>\n",
       "<td>logit</td>\n",
       "<td>Elastic Net (alpha = 0.5, lambda = 1.0E-5 )</td>\n",
       "<td>nlambda = 100, lambda.max = 0.1316, lambda.min = 1.0E-5, lambda.1se = -1.0</td>\n",
       "<td>7</td>\n",
       "<td>7</td>\n",
       "<td>6</td>\n",
       "<td>py_28_sid_b843</td></tr>\n",
       "<tr><td>grid_search1_model_2</td>\n",
       "<td>binomial</td>\n",
       "<td>logit</td>\n",
       "<td>Elastic Net (alpha = 0.7, lambda = 1.0E-5 )</td>\n",
       "<td>nlambda = 100, lambda.max = 0.09403, lambda.min = 1.0E-5, lambda.1se = -1.0</td>\n",
       "<td>7</td>\n",
       "<td>7</td>\n",
       "<td>6</td>\n",
       "<td>py_28_sid_b843</td></tr>\n",
       "<tr><td>grid_search1_model_3</td>\n",
       "<td>binomial</td>\n",
       "<td>logit</td>\n",
       "<td>Elastic Net (alpha = 0.9, lambda = 1.0E-5 )</td>\n",
       "<td>nlambda = 100, lambda.max = 0.07314, lambda.min = 1.0E-5, lambda.1se = -1.0</td>\n",
       "<td>7</td>\n",
       "<td>7</td>\n",
       "<td>6</td>\n",
       "<td>py_28_sid_b843</td></tr>\n",
       "<tr><td>grid_search1_model_4</td>\n",
       "<td>binomial</td>\n",
       "<td>logit</td>\n",
       "<td>Elastic Net (alpha = 0.5, lambda = 1.0E-4 )</td>\n",
       "<td>nlambda = 100, lambda.max = 0.1316, lambda.min = 1.0E-4, lambda.1se = -1.0</td>\n",
       "<td>7</td>\n",
       "<td>7</td>\n",
       "<td>7</td>\n",
       "<td>py_28_sid_b843</td></tr>\n",
       "<tr><td>grid_search1_model_5</td>\n",
       "<td>binomial</td>\n",
       "<td>logit</td>\n",
       "<td>Elastic Net (alpha = 0.7, lambda = 1.0E-4 )</td>\n",
       "<td>nlambda = 100, lambda.max = 0.09403, lambda.min = 1.0E-4, lambda.1se = -1.0</td>\n",
       "<td>7</td>\n",
       "<td>7</td>\n",
       "<td>7</td>\n",
       "<td>py_28_sid_b843</td></tr>\n",
       "<tr><td>grid_search1_model_6</td>\n",
       "<td>binomial</td>\n",
       "<td>logit</td>\n",
       "<td>Elastic Net (alpha = 0.9, lambda = 1.0E-4 )</td>\n",
       "<td>nlambda = 100, lambda.max = 0.07314, lambda.min = 1.0E-4, lambda.1se = -1.0</td>\n",
       "<td>7</td>\n",
       "<td>6</td>\n",
       "<td>7</td>\n",
       "<td>py_28_sid_b843</td></tr>\n",
       "<tr><td>grid_search1_model_7</td>\n",
       "<td>binomial</td>\n",
       "<td>logit</td>\n",
       "<td>Elastic Net (alpha = 0.5, lambda = 0.001 )</td>\n",
       "<td>nlambda = 100, lambda.max = 0.1316, lambda.min = 0.001, lambda.1se = -1.0</td>\n",
       "<td>7</td>\n",
       "<td>6</td>\n",
       "<td>11</td>\n",
       "<td>py_28_sid_b843</td></tr>\n",
       "<tr><td>grid_search1_model_8</td>\n",
       "<td>binomial</td>\n",
       "<td>logit</td>\n",
       "<td>Elastic Net (alpha = 0.7, lambda = 0.001 )</td>\n",
       "<td>nlambda = 100, lambda.max = 0.09403, lambda.min = 0.001, lambda.1se = -1.0</td>\n",
       "<td>7</td>\n",
       "<td>6</td>\n",
       "<td>11</td>\n",
       "<td>py_28_sid_b843</td></tr>\n",
       "<tr><td>grid_search1_model_9</td>\n",
       "<td>binomial</td>\n",
       "<td>logit</td>\n",
       "<td>Elastic Net (alpha = 0.9, lambda = 0.001 )</td>\n",
       "<td>nlambda = 100, lambda.max = 0.07314, lambda.min = 0.001, lambda.1se = -1.0</td>\n",
       "<td>7</td>\n",
       "<td>6</td>\n",
       "<td>13</td>\n",
       "<td>py_28_sid_b843</td></tr></tbody>\n",
       "  </table>\n",
       "</div>\n"
      ],
      "text/plain": [
       "Grid Summary\n",
       "Model Id              family    link    regularization                               lambda_search                                                                number_of_predictors_total    number_of_active_predictors    number_of_iterations    training_frame\n",
       "--------------------  --------  ------  -------------------------------------------  ---------------------------------------------------------------------------  ----------------------------  -----------------------------  ----------------------  ----------------\n",
       "grid_search1_model_1  binomial  logit   Elastic Net (alpha = 0.5, lambda = 1.0E-5 )  nlambda = 100, lambda.max = 0.1316, lambda.min = 1.0E-5, lambda.1se = -1.0   7                             7                              6                       py_28_sid_b843\n",
       "grid_search1_model_2  binomial  logit   Elastic Net (alpha = 0.7, lambda = 1.0E-5 )  nlambda = 100, lambda.max = 0.09403, lambda.min = 1.0E-5, lambda.1se = -1.0  7                             7                              6                       py_28_sid_b843\n",
       "grid_search1_model_3  binomial  logit   Elastic Net (alpha = 0.9, lambda = 1.0E-5 )  nlambda = 100, lambda.max = 0.07314, lambda.min = 1.0E-5, lambda.1se = -1.0  7                             7                              6                       py_28_sid_b843\n",
       "grid_search1_model_4  binomial  logit   Elastic Net (alpha = 0.5, lambda = 1.0E-4 )  nlambda = 100, lambda.max = 0.1316, lambda.min = 1.0E-4, lambda.1se = -1.0   7                             7                              7                       py_28_sid_b843\n",
       "grid_search1_model_5  binomial  logit   Elastic Net (alpha = 0.7, lambda = 1.0E-4 )  nlambda = 100, lambda.max = 0.09403, lambda.min = 1.0E-4, lambda.1se = -1.0  7                             7                              7                       py_28_sid_b843\n",
       "grid_search1_model_6  binomial  logit   Elastic Net (alpha = 0.9, lambda = 1.0E-4 )  nlambda = 100, lambda.max = 0.07314, lambda.min = 1.0E-4, lambda.1se = -1.0  7                             6                              7                       py_28_sid_b843\n",
       "grid_search1_model_7  binomial  logit   Elastic Net (alpha = 0.5, lambda = 0.001 )   nlambda = 100, lambda.max = 0.1316, lambda.min = 0.001, lambda.1se = -1.0    7                             6                              11                      py_28_sid_b843\n",
       "grid_search1_model_8  binomial  logit   Elastic Net (alpha = 0.7, lambda = 0.001 )   nlambda = 100, lambda.max = 0.09403, lambda.min = 0.001, lambda.1se = -1.0   7                             6                              11                      py_28_sid_b843\n",
       "grid_search1_model_9  binomial  logit   Elastic Net (alpha = 0.9, lambda = 0.001 )   nlambda = 100, lambda.max = 0.07314, lambda.min = 0.001, lambda.1se = -1.0   7                             6                              13                      py_28_sid_b843"
      ]
     },
     "metadata": {},
     "output_type": "display_data"
    },
    {
     "name": "stdout",
     "output_type": "stream",
     "text": [
      "Best accuracy threshold: 0.6166411009473756 \n",
      "  Accuracy: 0.8243002780352178\n",
      "Best F1 threshold: 0.16223457604718583 \n",
      "  F1: 0.3728706964709265\n",
      "Model AUC: 0.65445496437695\n",
      "Model AUCPR: 0.2486050527671883\n"
     ]
    }
   ],
   "source": [
    "# Define the hyperparameters for the GLM model\n",
    "hyperparams4 = {'alpha': [0.5, 0.7, 0.9], 'lambda': [1e-5, 1e-4, 1e-3]}\n",
    "\n",
    "# Create an H2O GLM estimator with the defined hyperparameters\n",
    "glm4 = H2OGeneralizedLinearEstimator(nfolds=0, seed=123, solver=\"L_BFGS\",\n",
    "                                    model_id='glm_v1', family=\"binomial\", lambda_search=True,\n",
    "                                    standardize=False, intercept=True)\n",
    "\n",
    "# Create a grid search object with the GLM estimator, the weights and hyperparameters to test\n",
    "grid4 = H2OGridSearch(model=glm4, grid_id='grid_search1', hyper_params=hyperparams4,\n",
    "                     search_criteria={'strategy': 'Cartesian'})\n",
    "\n",
    "# Train the grid search object on your dataset\n",
    "grid4.train(x= important_columns, y= label_col, training_frame=train_hfi,validation_frame=val_hfi)\n",
    "\n",
    "model4_summary = grid4.summary()\n",
    "\n",
    "# Get the grid results, sorted by validation AUCPR\n",
    "gridperf4 = grid4.get_grid(sort_by='aucpr', decreasing=True)\n",
    "gridperf4\n",
    "\n",
    "# Grab the top DRF model, chosen by validation AUCPR\n",
    "best_drf4 = gridperf4.models[0]\n",
    "\n",
    "# Now let's evaluate the model performance on a Validation set\n",
    "# We should see same metric as in the grid\n",
    "best_drf_perf4 = best_drf4.model_performance(val_hfi)\n",
    "best_drf_perf4.aucpr()\n",
    "\n",
    "# Now let's evaluate the model performance on a test set\n",
    "# so we get an honest estimate of top model performance\n",
    "best_drf_perf4 = best_drf4.model_performance(test_data=test_hfi)\n",
    "best_drf_perf4.aucpr()\n",
    "\n",
    "print(\"Best accuracy threshold:\",best_drf4.model_performance(test_hfi).accuracy()[0][0],\"\\n\",\n",
    "      \" Accuracy:\",\n",
    "      best_drf4.model_performance(test_hf).accuracy()[0][1])\n",
    "print(\"Best F1 threshold:\",best_drf4.model_performance(test_hfi).F1()[0][0],\"\\n\",\n",
    "      \" F1:\",\n",
    "      best_drf4.model_performance(test_hfi).F1()[0][1])\n",
    "print(\"Model AUC:\", best_drf4.model_performance(test_hfi).auc())\n",
    "print(\"Model AUCPR:\", best_drf4.model_performance(test_hfi).aucpr())\n"
   ]
  },
  {
   "cell_type": "markdown",
   "id": "7c714225",
   "metadata": {
    "id": "7c714225"
   },
   "source": [
    "# Perform grid search to determine the best model !"
   ]
  },
  {
   "cell_type": "code",
   "execution_count": 28,
   "id": "bf3af5fa",
   "metadata": {
    "colab": {
     "base_uri": "https://localhost:8080/"
    },
    "id": "bf3af5fa",
    "outputId": "d63f7342-1ae1-45cc-b4be-aa8262524f6d"
   },
   "outputs": [
    {
     "name": "stdout",
     "output_type": "stream",
     "text": [
      "glm Grid Build progress: |███████████████████████████████████████████████████████| (done) 100%\n",
      "Best accuracy threshold: 0.5298828775871888 \n",
      "  Accuracy: 0.8243002780352178\n",
      "Best F1 threshold: 0.1613446940883304 \n",
      "  F1: 0.3723246108931994\n",
      "Model AUC: 0.6544694215362626\n",
      "Model AUCPR: 0.24873108695711812\n"
     ]
    }
   ],
   "source": [
    "# Define the hyperparameters for the GLM model\n",
    "hyperparams5 = {'alpha': [0.5, 0.7, 0.9], 'lambda': [1e-5, 1e-4, 1e-3]}\n",
    "\n",
    "\n",
    "# Set up GLM for binary classification\n",
    "glm_5 = H2OGeneralizedLinearEstimator(family = 'binomial', model_id = 'glm_5', keep_cross_validation_predictions = True, nfolds =5, fold_assignment = \"stratified\", balance_classes=True)\n",
    "# Create a grid search object with the GLM estimator, the weights and hyperparameters to test\n",
    "grid5 = H2OGridSearch(model=glm_5, grid_id='grid_5', hyper_params=hyperparams5,\n",
    "                     search_criteria={'strategy': 'Cartesian'})\n",
    "\n",
    "# Train the grid search object on your dataset\n",
    "grid5.train(x= important_columns, y= label_col, training_frame=train_hfi,validation_frame=val_hfi)\n",
    "\n",
    "# Get the grid results, sorted by validation AUCPR\n",
    "gridperf5 = grid5.get_grid(sort_by='aucpr', decreasing=True)\n",
    "gridperf5\n",
    "\n",
    "# Grab the top DRF model, chosen by validation AUCPR\n",
    "best_drf5 = gridperf5.models[0]\n",
    "\n",
    "# Now let's evaluate the model performance on a Validation set\n",
    "# We should see same metric as in the grid\n",
    "best_drf_perf5 = best_drf5.model_performance(val_hfi)\n",
    "best_drf_perf5.aucpr()\n",
    "\n",
    "print(\"Best accuracy threshold:\",best_drf5.model_performance(test_hfi).accuracy()[0][0],\"\\n\",\n",
    "      \" Accuracy:\",\n",
    "      best_drf5.model_performance(test_hf).accuracy()[0][1])\n",
    "print(\"Best F1 threshold:\",best_drf5.model_performance(test_hfi).F1()[0][0],\"\\n\",\n",
    "      \" F1:\",\n",
    "      best_drf5.model_performance(test_hfi).F1()[0][1])\n",
    "print(\"Model AUC:\", best_drf5.model_performance(test_hfi).auc())\n",
    "print(\"Model AUCPR:\", best_drf5.model_performance(test_hfi).aucpr())\n"
   ]
  },
  {
   "cell_type": "code",
   "execution_count": 29,
   "id": "da580365",
   "metadata": {
    "id": "da580365"
   },
   "outputs": [],
   "source": [
    "important_columns2 = [ 'DisbursementGross_sc_SBA_Bank_Gurantee_Ratio_scinteraction',  'DisbursementGross_sc', 'BalanceGross_sc', 'GrAppv_sc', 'SBA_Appv_sc', 'SBA_Bank_Gurantee_Ratio_sc', 'industry_code_sc', 'FranchiseCode_sc', 'UrbanRural_sc', 'industry_code_sc', 'City_woe', 'State_woe']\n"
   ]
  },
  {
   "cell_type": "markdown",
   "id": "312e196e",
   "metadata": {
    "id": "312e196e"
   },
   "source": [
    "# Lets add  few more columns to see if it improves the performance"
   ]
  },
  {
   "cell_type": "code",
   "execution_count": 30,
   "id": "9b99ed9c",
   "metadata": {
    "colab": {
     "base_uri": "https://localhost:8080/"
    },
    "id": "9b99ed9c",
    "outputId": "6282e121-dd0d-4912-b74e-e5887fc5aff1"
   },
   "outputs": [
    {
     "name": "stdout",
     "output_type": "stream",
     "text": [
      "glm Grid Build progress: |███████████████████████████████████████████████████████| (done) 100%\n",
      "Best accuracy threshold: 0.8680010056325882 \n",
      "  Accuracy: 0.8243064565956132\n",
      "Best F1 threshold: 0.16634827314665138 \n",
      "  F1: 0.38806117609864055\n",
      "Model AUC: 0.6886484787970685\n",
      "Model AUCPR: 0.29818285372744463\n"
     ]
    }
   ],
   "source": [
    "\n",
    "# Define the hyperparameters for the GLM model\n",
    "hyperparams7 = {'alpha': [0.5, 0.7, 0.9], 'lambda': [1e-5, 1e-4, 1e-3]}\n",
    "\n",
    "\n",
    "\n",
    "# Set up GLM for binary classification\n",
    "glm_7 = H2OGeneralizedLinearEstimator(family = 'binomial', model_id = 'glm_7', keep_cross_validation_predictions = True, nfolds =5, fold_assignment = \"stratified\", balance_classes=True)\n",
    "# Create a grid search object with the GLM estimator, the weights and hyperparameters to test\n",
    "grid7 = H2OGridSearch(model=glm_7, grid_id='grid_7', hyper_params=hyperparams7,\n",
    "                     search_criteria={'strategy': 'Cartesian'})\n",
    "\n",
    "# Train the grid search object on your dataset\n",
    "grid7.train(x= important_columns2, y= label_col, training_frame=train_hfi,validation_frame=val_hfi)\n",
    "\n",
    "# Get the grid results, sorted by validation AUCPR\n",
    "gridperf7 = grid7.get_grid(sort_by='aucpr', decreasing=True)\n",
    "gridperf7\n",
    "\n",
    "# Grab the top DRF model, chosen by validation AUCPR\n",
    "best_drf7 = gridperf7.models[0]\n",
    "\n",
    "# Now let's evaluate the model performance on a Validation set\n",
    "\n",
    "best_drf_perf7 = best_drf7.model_performance(val_hfi)\n",
    "best_drf_perf7.aucpr()\n",
    "\n",
    "print(\"Best accuracy threshold:\",best_drf7.model_performance(test_hfi).accuracy()[0][0],\"\\n\",\n",
    "      \" Accuracy:\",\n",
    "      best_drf7.model_performance(test_hf).accuracy()[0][1])\n",
    "print(\"Best F1 threshold:\",best_drf7.model_performance(test_hfi).F1()[0][0],\"\\n\",\n",
    "      \" F1:\",\n",
    "      best_drf7.model_performance(test_hfi).F1()[0][1])\n",
    "print(\"Model AUC:\", best_drf7.model_performance(test_hfi).auc())\n",
    "print(\"Model AUCPR:\", best_drf7.model_performance(test_hfi).aucpr())"
   ]
  },
  {
   "cell_type": "markdown",
   "id": "b8795e1c",
   "metadata": {
    "id": "b8795e1c"
   },
   "source": [
    "# Check which variables have the highest importance"
   ]
  },
  {
   "cell_type": "code",
   "execution_count": 31,
   "id": "bf3427e8",
   "metadata": {
    "colab": {
     "base_uri": "https://localhost:8080/",
     "height": 1000
    },
    "id": "bf3427e8",
    "outputId": "01d272f1-3f61-4064-cfd8-ec3dfeb58a19"
   },
   "outputs": [
    {
     "data": {
      "image/png": "[encoded data removed]",
      "text/plain": [
       "<Figure size 640x480 with 1 Axes>"
      ]
     },
     "metadata": {},
     "output_type": "display_data"
    }
   ],
   "source": [
    "\n",
    "\n",
    "# Get the variable importance measures\n",
    "varimpall = glmall.varimp()\n",
    "\n",
    "# Print the table of features and their importance measures\n",
    "#print(varimpall)\n",
    "\n",
    "import matplotlib.pyplot as plt\n",
    "import seaborn as sns\n",
    "import pandas as pd\n",
    "\n",
    "varimpall_df = pd.DataFrame(varimpall, columns=['feature', 'importance', 'scaled_importance', 'percentage'])\n",
    "sns.barplot(x='percentage', y='feature', data=varimpall_df)\n",
    "plt.title('Variable Importance')\n",
    "plt.show()"
   ]
  },
  {
   "cell_type": "code",
   "execution_count": 32,
   "id": "8de26e9b",
   "metadata": {
    "id": "8de26e9b"
   },
   "outputs": [],
   "source": [
    "poly_imp = important_columns2 + poly_colname"
   ]
  },
  {
   "cell_type": "markdown",
   "id": "204cb97a",
   "metadata": {
    "id": "204cb97a"
   },
   "source": [
    "# Let's include important polinomial expressions also\n"
   ]
  },
  {
   "cell_type": "code",
   "execution_count": 33,
   "id": "cba1b205",
   "metadata": {
    "colab": {
     "base_uri": "https://localhost:8080/",
     "height": 635
    },
    "id": "cba1b205",
    "outputId": "9717ce3f-b0ed-4a51-c837-78db3bd18f9f"
   },
   "outputs": [
    {
     "name": "stdout",
     "output_type": "stream",
     "text": [
      "glm Grid Build progress: |███████████████████████████████████████████████████████| (done) 100%\n",
      "Best accuracy threshold: 0.9159436471052971 \n",
      "  Accuracy: 0.824318813716404\n",
      "Best F1 threshold: 0.18035572401955216 \n",
      "  F1: 0.3969271193749937\n",
      "Model AUC: 0.7045795426942956\n",
      "Model AUCPR: 0.31019995622951974\n",
      "[('UrbanRural_sc', 0.5255661010742188, 1.0, 0.23472618943145185), ('City_woe', 0.4758823812007904, 0.905466277653984, 0.21253664901240063), ('UrbanRural_sc_squared', 0.32907113432884216, 0.6261270155290548, 0.14696840845522252), ('Bank_woe_squared', 0.29089900851249695, 0.5534965210235603, 0.12992012924342577), ('SBA_Appv_sc', 0.28497108817100525, 0.5422174063139634, 0.12727262562748187), ('State_woe', 0.09427473694086075, 0.1793775069361781, 0.042104598672842906), ('DisbursementGross_sc', 0.07982084900140762, 0.1518759464095185, 0.035649262167001664), ('DisbursementGross_sc_SBA_Bank_Gurantee_Ratio_scinteraction', 0.07815974205732346, 0.14871534122457794, 0.03490738535564328), ('SBA_Bank_Gurantee_Ratio_sc', 0.030193235725164413, 0.05744897866025157, 0.013484779847649645), ('City_woe_squared', 0.023046182468533516, 0.043850207274458534, 0.010292792059312982), ('BankState_woe_squared', 0.014034591615200043, 0.02670376111875245, 0.006268072090892526), ('industry_code_sc', 0.00901658833026886, 0.017155954906223236, 0.004026951921195601), ('FranchiseCode_sc', 0.00412469869479537, 0.007848106425366451, 0.00184215611547876), ('BalanceGross_sc', 0.0, 0.0, 0.0), ('GrAppv_sc', 0.0, 0.0, 0.0)]\n"
     ]
    },
    {
     "data": {
      "image/png": "[encoded data removed]",
      "text/plain": [
       "<Figure size 640x480 with 1 Axes>"
      ]
     },
     "metadata": {},
     "output_type": "display_data"
    }
   ],
   "source": [
    "\n",
    "# Define the hyperparameters for the GLM model\n",
    "hyperparamsfinal = {'alpha': [0.3, 0.5, 0.7, 0.9], 'lambda': [1e-5, 1e-4, 1e-3]}\n",
    "\n",
    "\n",
    "\n",
    "# Set up GLM for binary classification\n",
    "glm_final = H2OGeneralizedLinearEstimator(family = 'binomial', model_id = 'glmfinal', keep_cross_validation_predictions = True, nfolds =7, fold_assignment = \"stratified\", balance_classes=True)\n",
    "# Create a grid search object with the GLM estimator, the weights and hyperparameters to test\n",
    "gridfinal = H2OGridSearch(model=glm_final, grid_id='grid_final', hyper_params=hyperparamsfinal,\n",
    "                     search_criteria={'strategy': 'Cartesian'})\n",
    "\n",
    "# Train the grid search object on your dataset\n",
    "gridfinal.train(x= poly_imp, y= label_col, training_frame=train_hfi,validation_frame=val_hfi)\n",
    "\n",
    "# Get the grid results, sorted by validation AUCPR\n",
    "gridperffinal = gridfinal.get_grid(sort_by='aucpr', decreasing=True)\n",
    "gridperffinal\n",
    "\n",
    "# Grab the top DRF model, chosen by validation AUCPR\n",
    "best_final = gridperffinal.models[0]\n",
    "\n",
    "# Now let's evaluate the model performance on a Validation set\n",
    "# We should see same metric as in the grid\n",
    "best_glm_final = best_final.model_performance(val_hfi)\n",
    "best_glm_final.aucpr()\n",
    "\n",
    "print(\"Best accuracy threshold:\",best_final.model_performance(test_hfi).accuracy()[0][0],\"\\n\",\n",
    "      \" Accuracy:\",\n",
    "      best_final.model_performance(test_hf).accuracy()[0][1])\n",
    "print(\"Best F1 threshold:\",best_final.model_performance(test_hfi).F1()[0][0],\"\\n\",\n",
    "      \" F1:\",\n",
    "      best_final.model_performance(test_hfi).F1()[0][1])\n",
    "print(\"Model AUC:\", best_final.model_performance(test_hfi).auc())\n",
    "print(\"Model AUCPR:\", best_final.model_performance(test_hfi).aucpr())\n",
    "\n",
    "\n",
    "# Get the variable importance measures\n",
    "polyvar = best_final.varimp()\n",
    "\n",
    "# Print the table of features and their importance measures\n",
    "print(polyvar)\n",
    "\n",
    "import matplotlib.pyplot as plt\n",
    "import seaborn as sns\n",
    "import pandas as pd\n",
    "\n",
    "polyvar_df = pd.DataFrame(polyvar, columns=['feature', 'importance', 'scaled_importance', 'percentage'])\n",
    "sns.barplot(x='percentage', y='feature', data=polyvar_df)\n",
    "plt.title('Variable Importance')\n",
    "plt.show()"
   ]
  },
  {
   "cell_type": "code",
   "execution_count": 34,
   "id": "7f6a9ce1",
   "metadata": {
    "id": "7f6a9ce1"
   },
   "outputs": [],
   "source": [
    "# Sort by scaled_importance in descending order and select the top 10 features\n",
    "top10 = polyvar_df.sort_values(by='scaled_importance', ascending=False).head(10)\n",
    "\n",
    "# Fetch the feature names and importance values as numpy arrays\n",
    "top10_features = top10['feature'].values\n",
    "\n"
   ]
  },
  {
   "cell_type": "code",
   "execution_count": 35,
   "id": "dbb04307",
   "metadata": {
    "colab": {
     "base_uri": "https://localhost:8080/"
    },
    "id": "dbb04307",
    "outputId": "e65b1b6c-d9a7-4ebe-90e6-b5e4f4ab9934"
   },
   "outputs": [
    {
     "data": {
      "text/plain": [
       "array(['UrbanRural_sc', 'City_woe', 'UrbanRural_sc_squared',\n",
       "       'Bank_woe_squared', 'SBA_Appv_sc', 'State_woe',\n",
       "       'DisbursementGross_sc',\n",
       "       'DisbursementGross_sc_SBA_Bank_Gurantee_Ratio_scinteraction',\n",
       "       'SBA_Bank_Gurantee_Ratio_sc', 'City_woe_squared'], dtype=object)"
      ]
     },
     "execution_count": 35,
     "metadata": {},
     "output_type": "execute_result"
    }
   ],
   "source": [
    "top10_features"
   ]
  },
  {
   "cell_type": "markdown",
   "id": "767e200d",
   "metadata": {
    "id": "767e200d"
   },
   "source": [
    "\n",
    "# Final model based on top ten features!"
   ]
  },
  {
   "cell_type": "code",
   "execution_count": 36,
   "id": "37b4f541",
   "metadata": {
    "colab": {
     "base_uri": "https://localhost:8080/"
    },
    "id": "37b4f541",
    "outputId": "417503bc-df1b-4f52-b87e-a7828b01c16c"
   },
   "outputs": [
    {
     "name": "stdout",
     "output_type": "stream",
     "text": [
      "glm Grid Build progress: |███████████████████████████████████████████████████████| (done) 100%\n",
      "Best accuracy threshold: 0.8012165398189097 \n",
      "  Accuracy: 0.824318813716404\n",
      "Best F1 threshold: 0.18787968675774774 \n",
      "  F1: 0.39681039942686863\n",
      "Model AUC: 0.7044853083588325\n",
      "Model AUCPR: 0.3102342132041902\n"
     ]
    }
   ],
   "source": [
    "\n",
    "# Define the hyperparameters for the GLM model\n",
    "hyperparamsfinale = {'alpha': [0.3, 0.5, 0.7, 0.9], 'lambda': [1e-5, 1e-4, 1e-3]}\n",
    "\n",
    "# Set up GLM for binary classification\n",
    "glm_finale = H2OGeneralizedLinearEstimator(family = 'binomial', model_id = 'glmfinale', keep_cross_validation_predictions = True, nfolds =7, fold_assignment = \"stratified\", balance_classes=True)\n",
    "\n",
    "\n",
    "\n",
    "# Create a grid search object with the GLM estimator, the weights and hyperparameters to test\n",
    "gridfinale = H2OGridSearch(model=glm_finale, grid_id='grid_finale', hyper_params=hyperparamsfinale,\n",
    "                     search_criteria={'strategy': 'Cartesian'})\n",
    "\n",
    "# Train the grid search object on your dataset\n",
    "gridfinale.train(x= top10_features, y= label_col, training_frame=train_hfi,validation_frame=val_hfi)\n",
    "\n",
    "# Get the grid results, sorted by validation AUCPR\n",
    "gridperffinale = gridfinale.get_grid(sort_by='aucpr', decreasing=True)\n",
    "gridperffinale\n",
    "\n",
    "# Grab the top DRF model, chosen by validation AUCPR\n",
    "best_finale = gridperffinale.models[0]\n",
    "\n",
    "# Now let's evaluate the model performance on a Validation set\n",
    "# We should see same metric as in the grid\n",
    "best_glm_finale = best_finale.model_performance(val_hfi)\n",
    "best_glm_finale.aucpr()\n",
    "\n",
    "print(\"Best accuracy threshold:\",best_finale.model_performance(test_hfi).accuracy()[0][0],\"\\n\",\n",
    "      \" Accuracy:\",\n",
    "      best_finale.model_performance(test_hf).accuracy()[0][1])\n",
    "print(\"Best F1 threshold:\",best_finale.model_performance(test_hfi).F1()[0][0],\"\\n\",\n",
    "      \" F1:\",\n",
    "      best_finale.model_performance(test_hfi).F1()[0][1])\n",
    "print(\"Model AUC:\", best_finale.model_performance(test_hfi).auc())\n",
    "print(\"Model AUCPR:\", best_finale.model_performance(test_hfi).aucpr())\n",
    "\n"
   ]
  },
  {
   "cell_type": "markdown",
   "id": "28fbcc5d",
   "metadata": {
    "id": "28fbcc5d"
   },
   "source": [
    "# Logistic Regression using SKlearn "
   ]
  },
  {
   "cell_type": "code",
   "execution_count": 37,
   "id": "9de90e86",
   "metadata": {
    "colab": {
     "base_uri": "https://localhost:8080/"
    },
    "id": "9de90e86",
    "outputId": "76e54d5f-0cd2-45dd-af58-9932029c8757"
   },
   "outputs": [
    {
     "name": "stdout",
     "output_type": "stream",
     "text": [
      "AUCPR for Validation: 0.3089368701541214\n",
      "AUCROC for Validation: 0.7069049994755696\n",
      "AUCPR for Test: 0.3104169264962232\n",
      "AUCROC for Test: 0.7047499742487697\n",
      "F1 for Test: 0.4912058410493713\n",
      "Test set confusion matrix:\n",
      "[[131821   1593]\n",
      " [ 27172   1264]]\n"
     ]
    }
   ],
   "source": [
    "from sklearn.linear_model import LogisticRegression\n",
    "from sklearn.model_selection import GridSearchCV\n",
    "from sklearn.metrics import roc_auc_score, average_precision_score, f1_score, confusion_matrix\n",
    "\n",
    "# Define the hyperparameters for the Sklearn Logistic Regression\n",
    "hyperparamsfinale = {'penalty': ['l1', 'l2'], 'C': [0.001, 0.01, 0.1, 1, 10, 100]}\n",
    "\n",
    "# Set up Sklearn Logistic Regression for binary classification\n",
    "lr_finale = LogisticRegression(solver='liblinear')\n",
    "\n",
    "# Create a grid search object with the Logistic Regression estimator and the hyperparameters to test\n",
    "gridfinale = GridSearchCV(estimator=lr_finale, param_grid=hyperparamsfinale, cv=7, scoring='roc_auc')\n",
    "\n",
    "# Assume 'train_data', 'val_data', and 'test_data' are defined, as well as 'top10_features' and 'label_col'\n",
    "\n",
    "# Use only the top 10 features columns of X_train for training\n",
    "X_train_top10 = train_data[top10_features]\n",
    "Y_train = train_data[label_col]\n",
    "\n",
    "# Train the grid search object on your training set\n",
    "gridfinale.fit(X_train_top10, Y_train)\n",
    "\n",
    "# Get the best hyperparameters and the corresponding AUCROC score on the validation set\n",
    "best_params = gridfinale.best_params_\n",
    "best_score = gridfinale.best_score_\n",
    "\n",
    "# Use the best hyperparameters to fit the Logistic Regression model on the entire training set\n",
    "lr_finale = LogisticRegression(solver='liblinear', **best_params)\n",
    "lr_finale.fit(X_train_top10, Y_train)\n",
    "\n",
    "# Use only the top 10 features columns of X_val for validation\n",
    "X_val_top10 = val_data[top10_features]\n",
    "Y_val_top10 = val_data[label_col]\n",
    "\n",
    "# Calculate predicted probabilities on the validation set for AUCPR\n",
    "y_pred_prob_val = lr_finale.predict_proba(X_val_top10)[:, 1]\n",
    "# Calculate AUCPR score on the validation set\n",
    "aucpr_val = average_precision_score(Y_val_top10, y_pred_prob_val)\n",
    "print(\"AUCPR for Validation:\", aucpr_val)\n",
    "\n",
    "# Calculate AUCROC score on the validation set using probabilities\n",
    "auc_val = roc_auc_score(Y_val_top10, y_pred_prob_val)\n",
    "print(\"AUCROC for Validation:\", auc_val)\n",
    "\n",
    "# Use only the top 10 features columns of X_test for prediction\n",
    "X_test_top10 = test_data[top10_features]\n",
    "Y_test_top10 = test_data[label_col]\n",
    "\n",
    "# Calculate predicted probabilities on the test set for AUCPR\n",
    "y_pred_prob_test = lr_finale.predict_proba(X_test_top10)[:, 1]\n",
    "# Calculate AUCPR score on the test set\n",
    "aucpr_test = average_precision_score(Y_test_top10, y_pred_prob_test)\n",
    "print(\"AUCPR for Test:\", aucpr_test)\n",
    "\n",
    "# Calculate AUCROC score on the test set using probabilities\n",
    "auc_test = roc_auc_score(Y_test_top10, y_pred_prob_test)\n",
    "print(\"AUCROC for Test:\", auc_test)\n",
    "\n",
    "# Use the trained model to predict on the test set\n",
    "y_pred_test = lr_finale.predict(X_test_top10)\n",
    "\n",
    "# Calculate F1 score on the test set\n",
    "f1 = f1_score(Y_test_top10, y_pred_test, average='macro')\n",
    "print(\"F1 for Test:\", f1)\n",
    "\n",
    "# Display the confusion matrix for the test set\n",
    "print(\"Test set confusion matrix:\")\n",
    "print(confusion_matrix(Y_test_top10, y_pred_test))\n"
   ]
  },
  {
   "cell_type": "markdown",
   "id": "d0dc290e",
   "metadata": {
    "id": "d0dc290e"
   },
   "source": [
    "Through my analysis, it's become clear that a few key attributes are significant predictors of whether a loan will be fully repaid or charged off.\n",
    "\n",
    "These critical attributes include the loan term duration, the proportion of the loan backed by the SBA, and the geographical location of the borrower (including both state and city). \n",
    "\n",
    "Additionally, the variance in interest rates across different states influences the probability of loan repayment.\n",
    "\n",
    "Although I have experimented with tuning various models using h2o's generalized linear model (GLM) and traditional logistic regression, considering the need for scalability with larger datasets, the h2o GLM seems to be the more appropriate choice despite both models yielding comparable results in the current context."
   ]
  },
  {
   "cell_type": "markdown",
   "id": "30bc381c",
   "metadata": {
    "id": "30bc381c"
   },
   "source": [
    "## Save all artifacts\n",
    "\n",
    "Save all artifacts needed for scoring function:\n",
    "- Trained model\n",
    "- Encoders\n",
    "- Any other arficats you will need for scoring\n",
    "\n",
    "**You should stop your notebook here. Scoring function should be in a separate file/notebook.**"
   ]
  },
  {
   "cell_type": "code",
   "execution_count": 38,
   "id": "b7414bc5",
   "metadata": {
    "colab": {
     "base_uri": "https://localhost:8080/",
     "height": 417
    },
    "id": "b7414bc5",
    "outputId": "d95d1b33-a88b-4b6b-920b-d11489fd0ee8"
   },
   "outputs": [
    {
     "data": {
      "text/plain": [
       "'/Users/akilsurya.s/ml-fall-2023/Project-1/grid_finale_model_11'"
      ]
     },
     "execution_count": 38,
     "metadata": {},
     "output_type": "execute_result"
    }
   ],
   "source": [
    "import joblib\n",
    "\n",
    "joblib.dump(scaler, 'std_scaler.bin', compress=True)\n",
    "\n",
    "# save the model\n",
    "model_path = h2o.save_model(model=best_finale, force=True)\n",
    "\n",
    "model_path"
   ]
  },
  {
   "cell_type": "code",
   "execution_count": 39,
   "id": "a1395f0d",
   "metadata": {
    "id": "a1395f0d"
   },
   "outputs": [],
   "source": [
    "threshold = 0.24523170136047936\n",
    "artifacts_dict = {\n",
    "    \"cat_encoders\" : cat_encoders,\n",
    "    \"cat_enc_columns\": cat_enc_columns,\n",
    "    \"cols_numerical_orig\": cols_numerical_orig,\n",
    "    \"top10_features\": top10_features,\n",
    "    \"threshold\": threshold\n",
    "}\n",
    "artifacts_dict_file = open(\"./artifacts_dict_file.pkl\", \"wb\")\n",
    "pickle.dump(obj=artifacts_dict, file=artifacts_dict_file)\n",
    "    \n",
    "artifacts_dict_file.close() "
   ]
  },
  {
   "cell_type": "code",
   "execution_count": 40,
   "id": "c69862a2-65fe-4ced-ae0c-6dfe0ba96bf1",
   "metadata": {},
   "outputs": [
    {
     "data": {
      "text/plain": [
       "array(['UrbanRural_sc', 'City_woe', 'UrbanRural_sc_squared',\n",
       "       'Bank_woe_squared', 'SBA_Appv_sc', 'State_woe',\n",
       "       'DisbursementGross_sc',\n",
       "       'DisbursementGross_sc_SBA_Bank_Gurantee_Ratio_scinteraction',\n",
       "       'SBA_Bank_Gurantee_Ratio_sc', 'City_woe_squared'], dtype=object)"
      ]
     },
     "execution_count": 40,
     "metadata": {},
     "output_type": "execute_result"
    }
   ],
   "source": [
    "top10_features"
   ]
  },
  {
   "cell_type": "markdown",
   "id": "a0d2e830",
   "metadata": {
    "id": "a0d2e830"
   },
   "source": [
    "## IMPORTANT - while executing the scoring function have all the files in the default directory\n",
    "\n",
    "\n",
    "\n",
    "\n",
    "\n",
    "\n",
    "\n",
    "\n",
    "\n",
    "\n",
    "\n",
    "\n",
    "\n",
    "\n",
    "\n",
    "\n"
   ]
  }
 ],
 "metadata": {
  "accelerator": "GPU",
  "colab": {
   "gpuType": "T4",
   "machine_shape": "hm",
   "provenance": []
  },
  "kernelspec": {
   "display_name": "Python 3 (ipykernel)",
   "language": "python",
   "name": "python3"
  },
  "language_info": {
   "codemirror_mode": {
    "name": "ipython",
    "version": 3
   },
   "file_extension": ".py",
   "mimetype": "text/x-python",
   "name": "python",
   "nbconvert_exporter": "python",
   "pygments_lexer": "ipython3",
   "version": "3.10.11"
  }
 },
 "nbformat": 4,
 "nbformat_minor": 5
}
